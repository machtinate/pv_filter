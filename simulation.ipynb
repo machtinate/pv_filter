{
 "cells": [
  {
   "cell_type": "markdown",
   "id": "ff38a99b",
   "metadata": {},
   "source": [
    "# First Order PV Filtering"
   ]
  },
  {
   "cell_type": "markdown",
   "id": "4cead3fe",
   "metadata": {},
   "source": [
    "### Problem statement\n",
    "Design a first order filter for an analog continuous signal commonly known as Process Value (PV).\n",
    "\n",
    "### Assumptions\n",
    "<ol>\n",
    "    <li> A 'first order' filter implies that there is one pole to place in the theoretical transfer function for the system. This could act in one of two ways:\n",
    "        <ul>\n",
    "            <li>LOW PASS - attenuating information above a certain cutoff frequency</li>\n",
    "            <li>HIGH PASS - attenuating information below a certaing cutoff frequency</li>\n",
    "        </ul>\n",
    "    </li>\n",
    "    <li>This said, given the PV is very likely a low frequency signal, and a 'first order filter' is usually just referring to a low pass filter, the digital filter in this case will be configured to <b>only</b> provide low pass filtering capabilities.</li>\n",
    "    <li>While the PV may be a continuous signal, we are assuming here that it is sampled in a discrete fashion. As such, the filter is designed as a discrete filter to emulate the characteristics of it's continuous counterpart.</li>\n",
    "</ol>"
   ]
  },
  {
   "cell_type": "code",
   "execution_count": 8,
   "id": "1db38f3d",
   "metadata": {},
   "outputs": [],
   "source": [
    "import numpy as np\n",
    "import matplotlib.pyplot as plt"
   ]
  },
  {
   "cell_type": "markdown",
   "id": "f4c2b9c9",
   "metadata": {},
   "source": [
    "### Process Variable design\n",
    "The Process Variable in this case is defined as the state of a linear time invariant (LTI) system with second order dynamics.  The system is governed by the set of ordinary differential equations\n",
    "\n",
    "$$\n",
    "\\dot{x_1} = x_2\\\\\n",
    "\\dot{x_2} = -w_n^2 x_1 - 2\\zeta w_n x_2 + u\n",
    "$$\n",
    "\n",
    "The variables $\\zeta$ (damping ratio) and $w_n$ (natural frequency) can be adjusted to simulate different dynamics. One typical physical manifestation of this system may be a mechanical spring-mass-damper where $x_1$ is the displacement and $x_2$ is the velocity of the mass. The control input to the system is $u$, which would be an analog for acceleration or force applied to the mass in the spring-mass-damper scenario.\n",
    "\n",
    "By adjusting the damping ratio, you can illicit:\n",
    "<ul>\n",
    "    <li> overdamped behviour with $\\zeta > 1$,</li>\n",
    "    <li> critically damped behaviour when $\\zeta = 1$, and</li>\n",
    "    <li> under damped behaviour when $0 < \\zeta < 1$.</li>\n",
    "</ul>\n",
    "    \n",
    "The natural frequncy, $w_n$, controls the frequency by which the system oscillates. A higher frequency leads to more oscillations during a shorter window of time.\n",
    "\n",
    "The initial state of the system of the is defined in a 2x1 vector, with the first entry being the observed state (e.g. displacement) and the second entry the first derivative (e.g. velocity).\n",
    "    \n",
    "After initial conditions are configured on instantiation, control inputs can be passed through the `step` function to move the process around. The controller gain is set to one and not configurable in this simulation.\n",
    "    \n",
    "Noise is added to the output of the system, configurable with the sigma variable that sets the standard deviation for a zero-mean Gaussian noise (higher the sigma, higher the amplitude of the noise).\n",
    "\n"
   ]
  },
  {
   "cell_type": "code",
   "execution_count": 9,
   "id": "7cf40cc0",
   "metadata": {},
   "outputs": [],
   "source": [
    "class process_variable(object):\n",
    "    \"\"\"\n",
    "    A simulated process variable (PV).\n",
    "    \n",
    "    Defined as a linear time invariant (LTI) system with second order dynamics.\n",
    "    Zeta and wn (natural frequency) can be adjusted to simulate different\n",
    "    dynamics.\n",
    "    \n",
    "    After initial conditions are configured on instantiation, control inputs \n",
    "    can be passed through the step() function to move the process around. Noise\n",
    "    is added to the output of the system, configurable with the sigma variable.\n",
    "    \"\"\"\n",
    "    def __init__(self, zeta, wn, x_0, u_0, dt, sigma):\n",
    "        \"\"\"\n",
    "        Parameters\n",
    "        ----------\n",
    "        zeta : float\n",
    "            Damping factor.\n",
    "                - overdamped -> zeta > 1\n",
    "                - critically damped -> zeta = 1\n",
    "                - under damped -> 0 < zeta < 1\n",
    "        wn : float\n",
    "            Natural frequency. The larger the number, the faster the system\n",
    "            oscillates in time.\n",
    "        x_0 : np.array([float])\n",
    "            Initial state. 2x1 numpy vector. First entry is zeroeth order state\n",
    "            variable (e.g. displacement), second entry is the first order\n",
    "            state variable (e.g. velocity).\n",
    "        u_0 : float\n",
    "            Control input. No gain configurable gain in this system so the \n",
    "            response is 1-to-1.\n",
    "        dt : float\n",
    "            Time constant. Time lapse between discrete samples of the system.\n",
    "        sigma : float\n",
    "            Noise standard deviation. Std dev of measurement noise.\n",
    "\n",
    "        Returns\n",
    "        -------\n",
    "        None.\n",
    "\n",
    "        \"\"\"\n",
    "        # initial conditions\n",
    "        self.x = x_0\n",
    "        self.u = u_0\n",
    "        \n",
    "        # dynamic and noise variables\n",
    "        self.wn = wn\n",
    "        self.sigma = sigma\n",
    "        \n",
    "        # initial output\n",
    "        self.y = np.dot(np.array([wn**2, 0.]),  x_0)\n",
    "        \n",
    "        # discretized process model\n",
    "        self.Ad = np.eye(2) + np.array([[0., 1.], [-(wn**2.), (-2.)*zeta*wn]]) * dt\n",
    "        self.Bd = np.array([[0.], [1.]]) * dt\n",
    "        \n",
    "    def step(self, u):\n",
    "        \"\"\"        \n",
    "        Parameters\n",
    "        ----------\n",
    "        u : float\n",
    "            Control input. 1-to-1 gain, applied to the second order state\n",
    "            rate of change (e.g. acceleration).\n",
    "\n",
    "        Returns\n",
    "        -------\n",
    "        y : float\n",
    "            Process output. In this case, defined as the first order state\n",
    "            variable (e.g. displacement). Gaussian noise is applied with\n",
    "            standard deviation defined by sigma variable.\n",
    "\n",
    "        \"\"\"\n",
    "        # apply the state update\n",
    "        self.x = np.dot(self.Ad, self.x) + (self.Bd * u)\n",
    "        \n",
    "        # extract the new output\n",
    "        self.y = np.dot(np.array([self.wn**2, 0.]),  self.x) + np.random.normal(0, self.sigma)\n",
    "        \n",
    "        return self.y"
   ]
  },
  {
   "cell_type": "markdown",
   "id": "d80ac5dc",
   "metadata": {},
   "source": [
    "### Filter design\n",
    "The filter is designed with the assumptions stated at the top of the notebook in mind. Since we've assumed that the system is sampled at discrete intervals, this necessitates the design of a discrete filter. A discrete low pass filter is equivalent to an exponentialy weighted moving average. \n",
    "\n",
    "The cutoff frequency, $w_c$, determines the frequency above which the signal is attenuated. It is sensible to choose a cutoff frequency lower than that of the noise of the system. Recall that in the process variable class, the noise is injected in each time step, which means that the process measurement noise operates roughly at the frequency $\\frac{1}{\\Delta t}$. The smoothing factor, $\\alpha$, for the exponentially weighted smoothing algorithm is determined as a function of the cutoff frequency and $\\Delta t$, \n",
    "\n",
    "$$\n",
    "\\alpha = \\frac{\\Delta t} {(\\frac{1}{w_c}) + \\Delta t}.\n",
    "$$\n",
    "\n",
    "The initial filter state is set on instantiation, and the filter object maintains the state from the previous timestep for the algorithm from then onward. By calling the `filt` function, a new data point in the time sequence can be passed to the filter, with a new filtered state based on that information returned in the function call."
   ]
  },
  {
   "cell_type": "code",
   "execution_count": 10,
   "id": "b3683d70",
   "metadata": {},
   "outputs": [],
   "source": [
    "class fo_filter(object):\n",
    "    \"\"\"\n",
    "    A first order low pass filter.\n",
    "    \n",
    "    The cutoff frequency is configurable at instantiation.\n",
    "    \n",
    "    For a discrete system, a low pass filter is equivalently modelled by an\n",
    "    exponentially weighted moving average algorithm. The smoothing factor is \n",
    "    alpha, calculated by the relationship in the init function.\n",
    "    \"\"\"\n",
    "    def __init__(self, wc, z_0, dt):\n",
    "        \"\"\"\n",
    "        Parameters\n",
    "        ----------\n",
    "        wc : float\n",
    "            Cutoff frequency. Defines the frequency above which the signal is \n",
    "            attenuated.\n",
    "        z_0 : float\n",
    "            Initial filter state. Initial state of the variable to be filtered.\n",
    "        dt : float\n",
    "            Filter time constant. The time lapse between discrete samples of \n",
    "            the variable to be filtered. Should be the same as the model.\n",
    "\n",
    "        Returns\n",
    "        -------\n",
    "        None.\n",
    "\n",
    "        \"\"\"\n",
    "        # initialize filter state\n",
    "        self.z = z_0\n",
    "        \n",
    "        # calculate the smoothing factor for the corresponding cutoff frequency\n",
    "        self.alpha = dt / ((1/wc) + dt)\n",
    "        \n",
    "        # step counter\n",
    "        self.i = 0\n",
    "        \n",
    "    def filt(self, data):\n",
    "        \"\"\"\n",
    "        Parameters\n",
    "        ----------\n",
    "        data : float\n",
    "            New data point for the filter. Assumed to be the next piece of\n",
    "            information passed to the filtering algorithm in the time sequence.\n",
    "\n",
    "        Returns\n",
    "        -------\n",
    "        z : float\n",
    "            Filtered state. The filtered state after being passed through the\n",
    "            low-pass algorithm.\n",
    "\n",
    "        \"\"\"\n",
    "        if self.i == 0:\n",
    "            # skip the first time step, corresponds with the intitial condition\n",
    "            self.i += 1\n",
    "        else:\n",
    "            # apply the exponentially weighted smoothing algorithm\n",
    "            self.z = self.alpha * data + (1-self.alpha) * self.z\n",
    "            self.i += 1\n",
    "        return self.z"
   ]
  },
  {
   "cell_type": "markdown",
   "id": "4cb13b02",
   "metadata": {},
   "source": [
    "### Simulation\n",
    "First the discrete sampling time constant is set, and a process variable and filter object are instantiated with zeroed initial conditions. The cutoff frequency of the filter is selected to be well below that of the noise frequency."
   ]
  },
  {
   "cell_type": "code",
   "execution_count": 16,
   "id": "aed12b03",
   "metadata": {},
   "outputs": [],
   "source": [
    "dt = 0.05\n",
    "m = process_variable(0.2, 0.7, np.array([[0.], [0.]]), 0., dt, 0.1)\n",
    "f = fo_filter(2, 0, dt)"
   ]
  },
  {
   "cell_type": "markdown",
   "id": "9bc0eec6",
   "metadata": {},
   "source": [
    "A time span is created for the simulation. Then, a series of control inputs are assigned at each timestep. The control inputs undergo a step change from zero to one and then stay there for the remainder of the simulation."
   ]
  },
  {
   "cell_type": "code",
   "execution_count": 17,
   "id": "0b11ffef",
   "metadata": {},
   "outputs": [],
   "source": [
    "t = np.arange(0, 30, dt)\n",
    "op = np.where(t < 5, 0, 1)"
   ]
  },
  {
   "cell_type": "markdown",
   "id": "663f3ca2",
   "metadata": {},
   "source": [
    "The control inputs are fed to the state space model and the dynamics are allowed to play out over the time span. The Filter is applied to the noisy system measurements."
   ]
  },
  {
   "cell_type": "code",
   "execution_count": 18,
   "id": "059db273",
   "metadata": {},
   "outputs": [],
   "source": [
    "pv = np.array([m.step(u) for u in op], dtype=object)\n",
    "pv_filt = np.array([f.filt(v) for v in pv], dtype=object)"
   ]
  },
  {
   "cell_type": "markdown",
   "id": "947f3520",
   "metadata": {},
   "source": [
    "The control input, noisy signal and filtered signal are all plotted over the timespan."
   ]
  },
  {
   "cell_type": "code",
   "execution_count": 19,
   "id": "ea9bb89b",
   "metadata": {},
   "outputs": [
    {
     "data": {
      "text/plain": [
       "<matplotlib.legend.Legend at 0x18fca8a50c0>"
      ]
     },
     "execution_count": 19,
     "metadata": {},
     "output_type": "execute_result"
    },
    {
     "data": {
      "image/png": "[encoded data removed]",
      "text/plain": [
       "<Figure size 640x480 with 2 Axes>"
      ]
     },
     "metadata": {},
     "output_type": "display_data"
    }
   ],
   "source": [
    "fig, (ax1, ax2) = plt.subplots(2,1,sharex='col')\n",
    "ax1.plot(t, op, label='Control input')\n",
    "ax1.set_ylabel('OP')\n",
    "ax2.plot(t, pv, label='Noisy signal')\n",
    "ax2.plot(t, pv_filt, label='Filtered signal')\n",
    "fig.suptitle('Process Variable Filter Simulation')\n",
    "plt.xlabel('Time [s]')\n",
    "plt.ylabel('PV')\n",
    "plt.legend()"
   ]
  },
  {
   "cell_type": "code",
   "execution_count": 15,
   "id": "6da9963f",
   "metadata": {},
   "outputs": [],
   "source": [
    "# clean up\n",
    "del dt, m, f, t, op, pv, pv_filt"
   ]
  },
  {
   "cell_type": "code",
   "execution_count": null,
   "id": "20fe2a8d",
   "metadata": {},
   "outputs": [],
   "source": []
  }
 ],
 "metadata": {
  "kernelspec": {
   "display_name": "Python 3 (ipykernel)",
   "language": "python",
   "name": "python3"
  },
  "language_info": {
   "codemirror_mode": {
    "name": "ipython",
    "version": 3
   },
   "file_extension": ".py",
   "mimetype": "text/x-python",
   "name": "python",
   "nbconvert_exporter": "python",
   "pygments_lexer": "ipython3",
   "version": "3.10.9"
  }
 },
 "nbformat": 4,
 "nbformat_minor": 5
}
